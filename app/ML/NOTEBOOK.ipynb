{
 "cells": [
  {
   "cell_type": "code",
   "execution_count": null,
   "metadata": {
    "collapsed": true
   },
   "outputs": [],
   "source": [
    "from TestDataSet import TestData\n",
    "import torch\n",
    "\n",
    "saved_data = torch.load(\"data.pth\")\n",
    "\n",
    "# Create mock input data\n",
    "mock_data = {\n",
    "    \"CUSTOMER_country\": [],\n",
    "    \"PRODUCT_name\": [],\n",
    "    \"PRODUCT_category\": [],\n",
    "    \"PRODUCT_sub_category\": [],\n",
    "    \"DAY_QUARTER_nr\": [],\n",
    "    \"DAY_MONTH_nr\": [],\n",
    "}\n",
    "\n",
    "country = 'USA'\n",
    "product = 'LL Road Pedal'\n",
    "category = 'Components'\n",
    "subCategory = 'Pedals'\n",
    "\n",
    "for i in range(1, 13):\n",
    "    q = (i - 1) // 3 + 1\n",
    "\n",
    "    mock_data[\"CUSTOMER_country\"].append(country)\n",
    "    mock_data[\"PRODUCT_name\"].append(product)\n",
    "    mock_data[\"PRODUCT_category\"].append(category)\n",
    "    mock_data[\"PRODUCT_sub_category\"].append(subCategory)\n",
    "    mock_data[\"DAY_MONTH_nr\"].append(i)\n",
    "    mock_data[\"DAY_QUARTER_nr\"].append(q)\n",
    "\n",
    "testData = TestData(saved_data)\n",
    "result_df = testData.predict(mock_data)\n",
    "\n",
    "usedColumns = ['CUSTOMER_country', 'PRODUCT_name', 'PRODUCT_category', 'PRODUCT_sub_category', 'DAY_QUARTER_nr',\n",
    "               'DAY_MONTH_nr', 'Predicted_price']\n",
    "\n",
    "r2 = result_df[usedColumns]\n",
    "\n",
    "# Print the result\n",
    "print('R2')"
   ]
  },
  {
   "cell_type": "code",
   "execution_count": null,
   "outputs": [],
   "source": [
    "graphCols = ['PRODUCT_name', 'DAY_MONTH_nr', 'Predicted_price']\n",
    "graphData = r2[graphCols]\n",
    "graphData"
   ],
   "metadata": {
    "collapsed": false
   }
  },
  {
   "cell_type": "code",
   "execution_count": null,
   "outputs": [],
   "source": [
    "import matplotlib.pyplot as plt\n",
    "\n",
    "# Assuming you have already defined the 'graphData' DataFrame\n",
    "\n",
    "# Plotting the data\n",
    "plt.figure(figsize=(10, 6))\n",
    "plt.bar(graphData['DAY_MONTH_nr'], graphData['Predicted_price'])\n",
    "plt.xlabel('MONTH')\n",
    "plt.ylabel('Predicted Price')\n",
    "plt.title('Predicted Prices for Different Products')\n",
    "plt.xticks(rotation=90)\n",
    "plt.tight_layout()\n",
    "\n",
    "# Displaying the graph\n",
    "plt.show()"
   ],
   "metadata": {
    "collapsed": false
   }
  },
  {
   "cell_type": "code",
   "execution_count": null,
   "outputs": [],
   "source": [
    "from app.data.Repositories.CrudRepository import Repository\n",
    "from app.Tools import DbUtil as dbUtil\n",
    "import pandas as pd\n",
    "import torch\n",
    "\n",
    "connectionString = dbUtil.constructConnectionString('OutdoorFusion')\n",
    "dataRepository = Repository(connectionString)\n",
    "\n",
    "order_details = dataRepository.findAll('Order_Details')\n",
    "product = dataRepository.findAll('Product')\n",
    "customer = dataRepository.findAll('Customer')\n",
    "employee = dataRepository.findAll('Employee')\n",
    "dayDate = dataRepository.findAll('Order_Date')\n",
    "\n",
    "mergedData = pd.merge(order_details, product, on='PRODUCT_id')\n",
    "mergedData = pd.merge(mergedData, customer, on='CUSTOMER_id')\n",
    "\n",
    "column = 'PRODUCT_name'\n",
    "product = 'LL Road Pedal'\n",
    "\n",
    "filtered_data = mergedData[mergedData['PRODUCT_name'] == 'LL Road Pedal']\n",
    "\n",
    "selectColumns = ['CUSTOMER_country', 'PRODUCT_name', 'PRODUCT_category', 'PRODUCT_sub_category',\n",
    "                 'ORDER_DETAIL_unit_price']\n",
    "selectedData = filtered_data[selectColumns]"
   ],
   "metadata": {
    "collapsed": false
   }
  },
  {
   "cell_type": "code",
   "execution_count": null,
   "outputs": [],
   "source": [
    "selectedData"
   ],
   "metadata": {
    "collapsed": false
   }
  }
 ],
 "metadata": {
  "kernelspec": {
   "display_name": "Python 3",
   "language": "python",
   "name": "python3"
  },
  "language_info": {
   "codemirror_mode": {
    "name": "ipython",
    "version": 2
   },
   "file_extension": ".py",
   "mimetype": "text/x-python",
   "name": "python",
   "nbconvert_exporter": "python",
   "pygments_lexer": "ipython2",
   "version": "2.7.6"
  }
 },
 "nbformat": 4,
 "nbformat_minor": 0
}
