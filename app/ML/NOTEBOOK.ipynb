{
 "cells": [
  {
   "cell_type": "code",
   "execution_count": 38,
   "outputs": [],
   "source": [
    "from TestDataSet import TestData\n",
    "import torch\n",
    "import pandas as pd\n",
    "import DbUtil\n",
    "import CrudRepository"
   ],
   "metadata": {
    "collapsed": false,
    "ExecuteTime": {
     "end_time": "2023-06-06T20:22:07.186818500Z",
     "start_time": "2023-06-06T20:22:07.121000700Z"
    }
   }
  },
  {
   "cell_type": "code",
   "execution_count": 39,
   "outputs": [
    {
     "name": "stdout",
     "output_type": "stream",
     "text": [
      "INPUT SIZE 293, HIDDEN SIZE 8, NUM CLASS 1\n",
      "    CUSTOMER_country_Australia  CUSTOMER_country_CAN  CUSTOMER_country_Canada  \\\n",
      "0                            0                     0                        0   \n",
      "1                            0                     0                        0   \n",
      "2                            0                     0                        0   \n",
      "3                            0                     0                        0   \n",
      "4                            0                     0                        0   \n",
      "5                            0                     0                        0   \n",
      "6                            0                     0                        0   \n",
      "7                            0                     0                        0   \n",
      "8                            0                     0                        0   \n",
      "9                            0                     0                        0   \n",
      "10                           0                     0                        0   \n",
      "11                           0                     0                        0   \n",
      "\n",
      "    CUSTOMER_country_France  CUSTOMER_country_Germany  CUSTOMER_country_USA  \\\n",
      "0                         0                         0                  True   \n",
      "1                         0                         0                  True   \n",
      "2                         0                         0                  True   \n",
      "3                         0                         0                  True   \n",
      "4                         0                         0                  True   \n",
      "5                         0                         0                  True   \n",
      "6                         0                         0                  True   \n",
      "7                         0                         0                  True   \n",
      "8                         0                         0                  True   \n",
      "9                         0                         0                  True   \n",
      "10                        0                         0                  True   \n",
      "11                        0                         0                  True   \n",
      "\n",
      "    CUSTOMER_country_United Kingdom  CUSTOMER_country_United States  \\\n",
      "0                                 0                               0   \n",
      "1                                 0                               0   \n",
      "2                                 0                               0   \n",
      "3                                 0                               0   \n",
      "4                                 0                               0   \n",
      "5                                 0                               0   \n",
      "6                                 0                               0   \n",
      "7                                 0                               0   \n",
      "8                                 0                               0   \n",
      "9                                 0                               0   \n",
      "10                                0                               0   \n",
      "11                                0                               0   \n",
      "\n",
      "    PRODUCT_name_AWC Logo Cap  PRODUCT_name_All-Purpose Bike Stand  ...  \\\n",
      "0                           0                                    0  ...   \n",
      "1                           0                                    0  ...   \n",
      "2                           0                                    0  ...   \n",
      "3                           0                                    0  ...   \n",
      "4                           0                                    0  ...   \n",
      "5                           0                                    0  ...   \n",
      "6                           0                                    0  ...   \n",
      "7                           0                                    0  ...   \n",
      "8                           0                                    0  ...   \n",
      "9                           0                                    0  ...   \n",
      "10                          0                                    0  ...   \n",
      "11                          0                                    0  ...   \n",
      "\n",
      "    DAY_MONTH_nr_11  DAY_MONTH_nr_12  DAY_MONTH_nr_2  DAY_MONTH_nr_3  \\\n",
      "0             False            False           False           False   \n",
      "1             False            False            True           False   \n",
      "2             False            False           False            True   \n",
      "3             False            False           False           False   \n",
      "4             False            False           False           False   \n",
      "5             False            False           False           False   \n",
      "6             False            False           False           False   \n",
      "7             False            False           False           False   \n",
      "8             False            False           False           False   \n",
      "9             False            False           False           False   \n",
      "10             True            False           False           False   \n",
      "11            False             True           False           False   \n",
      "\n",
      "    DAY_MONTH_nr_4  DAY_MONTH_nr_5  DAY_MONTH_nr_6  DAY_MONTH_nr_7  \\\n",
      "0            False           False           False           False   \n",
      "1            False           False           False           False   \n",
      "2            False           False           False           False   \n",
      "3             True           False           False           False   \n",
      "4            False            True           False           False   \n",
      "5            False           False            True           False   \n",
      "6            False           False           False            True   \n",
      "7            False           False           False           False   \n",
      "8            False           False           False           False   \n",
      "9            False           False           False           False   \n",
      "10           False           False           False           False   \n",
      "11           False           False           False           False   \n",
      "\n",
      "    DAY_MONTH_nr_8  DAY_MONTH_nr_9  \n",
      "0            False           False  \n",
      "1            False           False  \n",
      "2            False           False  \n",
      "3            False           False  \n",
      "4            False           False  \n",
      "5            False           False  \n",
      "6            False           False  \n",
      "7             True           False  \n",
      "8            False            True  \n",
      "9            False           False  \n",
      "10           False           False  \n",
      "11           False           False  \n",
      "\n",
      "[12 rows x 293 columns]\n",
      "R2\n"
     ]
    }
   ],
   "source": [
    "\n",
    "\n",
    "\n",
    "saved_data = torch.load(\"data.pth\")\n",
    "\n",
    "# Create mock input data\n",
    "mock_data = {\n",
    "    \"CUSTOMER_country\": [],\n",
    "    \"PRODUCT_name\": [],\n",
    "    \"PRODUCT_category\": [],\n",
    "    \"PRODUCT_sub_category\": [],\n",
    "    \"DAY_QUARTER_nr\": [],\n",
    "    \"DAY_MONTH_nr\": [],\n",
    "}\n",
    "\n",
    "country = 'USA'\n",
    "product = 'LL Road Pedal'\n",
    "category = 'Components'\n",
    "subCategory = 'Pedals'\n",
    "\n",
    "for i in range(1, 13):\n",
    "    q = (i - 1) // 3 + 1\n",
    "\n",
    "    mock_data[\"CUSTOMER_country\"].append(country)\n",
    "    mock_data[\"PRODUCT_name\"].append(product)\n",
    "    mock_data[\"PRODUCT_category\"].append(category)\n",
    "    mock_data[\"PRODUCT_sub_category\"].append(subCategory)\n",
    "    mock_data[\"DAY_MONTH_nr\"].append(i)\n",
    "    mock_data[\"DAY_QUARTER_nr\"].append(q)\n",
    "\n",
    "testData = TestData(saved_data)\n",
    "result_df = testData.predict(mock_data)\n",
    "\n",
    "usedColumns = ['CUSTOMER_country', 'PRODUCT_name', 'PRODUCT_category', 'PRODUCT_sub_category', 'DAY_QUARTER_nr',\n",
    "               'DAY_MONTH_nr', 'Predicted_price']\n",
    "\n",
    "r2 = result_df[usedColumns]\n",
    "\n",
    "# Print the result\n",
    "print('R2')"
   ],
   "metadata": {
    "collapsed": false,
    "ExecuteTime": {
     "end_time": "2023-06-06T20:22:10.785854200Z",
     "start_time": "2023-06-06T20:22:07.143259500Z"
    }
   }
  },
  {
   "cell_type": "code",
   "execution_count": 40,
   "outputs": [
    {
     "data": {
      "text/plain": "     PRODUCT_name  DAY_MONTH_nr  Predicted_price\n0   LL Road Pedal             1         5.395813\n1   LL Road Pedal             2        21.655445\n2   LL Road Pedal             3         5.395813\n3   LL Road Pedal             4       125.524666\n4   LL Road Pedal             5         5.395813\n5   LL Road Pedal             6        36.593922\n6   LL Road Pedal             7         5.395813\n7   LL Road Pedal             8         5.395813\n8   LL Road Pedal             9         5.395813\n9   LL Road Pedal            10         5.395813\n10  LL Road Pedal            11         5.395813\n11  LL Road Pedal            12         5.395813",
      "text/html": "<div>\n<style scoped>\n    .dataframe tbody tr th:only-of-type {\n        vertical-align: middle;\n    }\n\n    .dataframe tbody tr th {\n        vertical-align: top;\n    }\n\n    .dataframe thead th {\n        text-align: right;\n    }\n</style>\n<table border=\"1\" class=\"dataframe\">\n  <thead>\n    <tr style=\"text-align: right;\">\n      <th></th>\n      <th>PRODUCT_name</th>\n      <th>DAY_MONTH_nr</th>\n      <th>Predicted_price</th>\n    </tr>\n  </thead>\n  <tbody>\n    <tr>\n      <th>0</th>\n      <td>LL Road Pedal</td>\n      <td>1</td>\n      <td>5.395813</td>\n    </tr>\n    <tr>\n      <th>1</th>\n      <td>LL Road Pedal</td>\n      <td>2</td>\n      <td>21.655445</td>\n    </tr>\n    <tr>\n      <th>2</th>\n      <td>LL Road Pedal</td>\n      <td>3</td>\n      <td>5.395813</td>\n    </tr>\n    <tr>\n      <th>3</th>\n      <td>LL Road Pedal</td>\n      <td>4</td>\n      <td>125.524666</td>\n    </tr>\n    <tr>\n      <th>4</th>\n      <td>LL Road Pedal</td>\n      <td>5</td>\n      <td>5.395813</td>\n    </tr>\n    <tr>\n      <th>5</th>\n      <td>LL Road Pedal</td>\n      <td>6</td>\n      <td>36.593922</td>\n    </tr>\n    <tr>\n      <th>6</th>\n      <td>LL Road Pedal</td>\n      <td>7</td>\n      <td>5.395813</td>\n    </tr>\n    <tr>\n      <th>7</th>\n      <td>LL Road Pedal</td>\n      <td>8</td>\n      <td>5.395813</td>\n    </tr>\n    <tr>\n      <th>8</th>\n      <td>LL Road Pedal</td>\n      <td>9</td>\n      <td>5.395813</td>\n    </tr>\n    <tr>\n      <th>9</th>\n      <td>LL Road Pedal</td>\n      <td>10</td>\n      <td>5.395813</td>\n    </tr>\n    <tr>\n      <th>10</th>\n      <td>LL Road Pedal</td>\n      <td>11</td>\n      <td>5.395813</td>\n    </tr>\n    <tr>\n      <th>11</th>\n      <td>LL Road Pedal</td>\n      <td>12</td>\n      <td>5.395813</td>\n    </tr>\n  </tbody>\n</table>\n</div>"
     },
     "execution_count": 40,
     "metadata": {},
     "output_type": "execute_result"
    }
   ],
   "source": [
    "graphCols = ['PRODUCT_name', 'DAY_MONTH_nr', 'Predicted_price']\n",
    "graphData = r2[graphCols]\n",
    "graphData"
   ],
   "metadata": {
    "collapsed": false,
    "ExecuteTime": {
     "end_time": "2023-06-06T20:22:10.816632200Z",
     "start_time": "2023-06-06T20:22:10.791828600Z"
    }
   }
  },
  {
   "cell_type": "code",
   "execution_count": 41,
   "outputs": [
    {
     "data": {
      "text/plain": "<Figure size 1000x600 with 1 Axes>",
      "image/png": "[encoded data removed]"
     },
     "metadata": {},
     "output_type": "display_data"
    }
   ],
   "source": [
    "import matplotlib.pyplot as plt\n",
    "\n",
    "# Assuming you have already defined the 'graphData' DataFrame\n",
    "\n",
    "# Plotting the data\n",
    "plt.figure(figsize=(10, 6))\n",
    "plt.bar(graphData['DAY_MONTH_nr'], graphData['Predicted_price'])\n",
    "plt.xlabel('MONTH')\n",
    "plt.ylabel('Predicted Price')\n",
    "plt.title('Predicted Prices for Different Products')\n",
    "plt.xticks(rotation=90)\n",
    "plt.tight_layout()\n",
    "\n",
    "# Displaying the graph\n",
    "plt.show()"
   ],
   "metadata": {
    "collapsed": false,
    "ExecuteTime": {
     "end_time": "2023-06-06T20:22:11.007920700Z",
     "start_time": "2023-06-06T20:22:10.804494Z"
    }
   }
  },
  {
   "cell_type": "code",
   "execution_count": 42,
   "outputs": [],
   "source": [
    "connectionString = DbUtil.constructConnectionString('OutdoorFusion')\n",
    "dataRepository = CrudRepository.findAll(connectionString, 'Order_Details')\n",
    "\n",
    "order_details = CrudRepository.findAll(connectionString, 'Order_Details')\n",
    "product = CrudRepository.findAll(connectionString, 'Product')\n",
    "customer = CrudRepository.findAll(connectionString, 'Customer')\n",
    "employee = CrudRepository.findAll(connectionString, 'Employee')\n",
    "dayDate = CrudRepository.findAll(connectionString, 'Order_Date')\n",
    "\n",
    "mergedData = pd.merge(order_details, product, on='PRODUCT_id')\n",
    "mergedData = pd.merge(mergedData, customer, on='CUSTOMER_id')\n",
    "\n",
    "column = 'PRODUCT_name'\n",
    "product = 'LL Road Pedal'\n",
    "\n",
    "filtered_data = mergedData[mergedData['PRODUCT_name'] == 'LL Road Pedal']\n",
    "\n",
    "selectColumns = ['CUSTOMER_country', 'PRODUCT_name', 'PRODUCT_category', 'PRODUCT_sub_category',\n",
    "                 'ORDER_DETAIL_unit_price']\n",
    "selectedData = filtered_data[selectColumns]"
   ],
   "metadata": {
    "collapsed": false,
    "ExecuteTime": {
     "end_time": "2023-06-06T20:22:17.530082300Z",
     "start_time": "2023-06-06T20:22:11.012916Z"
    }
   }
  },
  {
   "cell_type": "code",
   "execution_count": 43,
   "outputs": [
    {
     "data": {
      "text/plain": "       CUSTOMER_country   PRODUCT_name PRODUCT_category PRODUCT_sub_category  \\\n11229            Canada  LL Road Pedal       Components               Pedals   \n11230            Canada  LL Road Pedal       Components               Pedals   \n11231            Canada  LL Road Pedal       Components               Pedals   \n11232            Canada  LL Road Pedal       Components               Pedals   \n11683     United States  LL Road Pedal       Components               Pedals   \n...                 ...            ...              ...                  ...   \n93182     United States  LL Road Pedal       Components               Pedals   \n106299    United States  LL Road Pedal       Components               Pedals   \n106300           France  LL Road Pedal       Components               Pedals   \n106301    United States  LL Road Pedal       Components               Pedals   \n106302    United States  LL Road Pedal       Components               Pedals   \n\n        ORDER_DETAIL_unit_price  \n11229                    24.294  \n11230                    24.294  \n11231                    24.294  \n11232                    24.294  \n11683                    24.294  \n...                         ...  \n93182                    24.294  \n106299                   24.294  \n106300                   24.294  \n106301                   24.294  \n106302                   24.294  \n\n[309 rows x 5 columns]",
      "text/html": "<div>\n<style scoped>\n    .dataframe tbody tr th:only-of-type {\n        vertical-align: middle;\n    }\n\n    .dataframe tbody tr th {\n        vertical-align: top;\n    }\n\n    .dataframe thead th {\n        text-align: right;\n    }\n</style>\n<table border=\"1\" class=\"dataframe\">\n  <thead>\n    <tr style=\"text-align: right;\">\n      <th></th>\n      <th>CUSTOMER_country</th>\n      <th>PRODUCT_name</th>\n      <th>PRODUCT_category</th>\n      <th>PRODUCT_sub_category</th>\n      <th>ORDER_DETAIL_unit_price</th>\n    </tr>\n  </thead>\n  <tbody>\n    <tr>\n      <th>11229</th>\n      <td>Canada</td>\n      <td>LL Road Pedal</td>\n      <td>Components</td>\n      <td>Pedals</td>\n      <td>24.294</td>\n    </tr>\n    <tr>\n      <th>11230</th>\n      <td>Canada</td>\n      <td>LL Road Pedal</td>\n      <td>Components</td>\n      <td>Pedals</td>\n      <td>24.294</td>\n    </tr>\n    <tr>\n      <th>11231</th>\n      <td>Canada</td>\n      <td>LL Road Pedal</td>\n      <td>Components</td>\n      <td>Pedals</td>\n      <td>24.294</td>\n    </tr>\n    <tr>\n      <th>11232</th>\n      <td>Canada</td>\n      <td>LL Road Pedal</td>\n      <td>Components</td>\n      <td>Pedals</td>\n      <td>24.294</td>\n    </tr>\n    <tr>\n      <th>11683</th>\n      <td>United States</td>\n      <td>LL Road Pedal</td>\n      <td>Components</td>\n      <td>Pedals</td>\n      <td>24.294</td>\n    </tr>\n    <tr>\n      <th>...</th>\n      <td>...</td>\n      <td>...</td>\n      <td>...</td>\n      <td>...</td>\n      <td>...</td>\n    </tr>\n    <tr>\n      <th>93182</th>\n      <td>United States</td>\n      <td>LL Road Pedal</td>\n      <td>Components</td>\n      <td>Pedals</td>\n      <td>24.294</td>\n    </tr>\n    <tr>\n      <th>106299</th>\n      <td>United States</td>\n      <td>LL Road Pedal</td>\n      <td>Components</td>\n      <td>Pedals</td>\n      <td>24.294</td>\n    </tr>\n    <tr>\n      <th>106300</th>\n      <td>France</td>\n      <td>LL Road Pedal</td>\n      <td>Components</td>\n      <td>Pedals</td>\n      <td>24.294</td>\n    </tr>\n    <tr>\n      <th>106301</th>\n      <td>United States</td>\n      <td>LL Road Pedal</td>\n      <td>Components</td>\n      <td>Pedals</td>\n      <td>24.294</td>\n    </tr>\n    <tr>\n      <th>106302</th>\n      <td>United States</td>\n      <td>LL Road Pedal</td>\n      <td>Components</td>\n      <td>Pedals</td>\n      <td>24.294</td>\n    </tr>\n  </tbody>\n</table>\n<p>309 rows × 5 columns</p>\n</div>"
     },
     "execution_count": 43,
     "metadata": {},
     "output_type": "execute_result"
    }
   ],
   "source": [
    "selectedData"
   ],
   "metadata": {
    "collapsed": false,
    "ExecuteTime": {
     "end_time": "2023-06-06T20:22:17.545210600Z",
     "start_time": "2023-06-06T20:22:17.526905300Z"
    }
   }
  },
  {
   "cell_type": "code",
   "execution_count": 44,
   "outputs": [],
   "source": [
    "# Get data\n",
    "connectionString = DbUtil.constructConnectionString('OutdoorFusion')\n",
    "dataRepository = CrudRepository.findAll(connectionString, 'Order_Details')\n",
    "\n",
    "order_details = CrudRepository.findAll(connectionString, 'Order_Details')\n",
    "product = CrudRepository.findAll(connectionString, 'Product')\n",
    "customer = CrudRepository.findAll(connectionString, 'Customer')\n",
    "employee = CrudRepository.findAll(connectionString, 'Employee')\n",
    "dayDate = CrudRepository.findAll(connectionString, 'Order_Date')\n",
    "\n",
    "\n",
    "mergedData = pd.merge(order_details, product, on='PRODUCT_id')\n",
    "mergedData = pd.merge(mergedData, customer, on='CUSTOMER_id')\n",
    "\n",
    "column = 'PRODUCT_name'\n",
    "product = 'LL Road Pedal'\n",
    "\n",
    "filtered_data = mergedData[mergedData['PRODUCT_name'] == 'LL Road Pedal']\n",
    "\n",
    "selectColumns = ['CUSTOMER_country','PRODUCT_name','PRODUCT_category','PRODUCT_sub_category','ORDER_DETAIL_unit_price']\n",
    "selectedData = filtered_data[selectColumns]"
   ],
   "metadata": {
    "collapsed": false,
    "ExecuteTime": {
     "end_time": "2023-06-06T20:22:24.874625600Z",
     "start_time": "2023-06-06T20:22:17.543233400Z"
    }
   }
  },
  {
   "cell_type": "code",
   "execution_count": 45,
   "outputs": [
    {
     "data": {
      "text/plain": "       CUSTOMER_id               CUSTOMER_address     CUSTOMER_city  \\\n0                0                  Obere Str. 57            Berlin   \n1                1  Avda. de la Constitución 2222       México D.F.   \n2                2                Mataderos  2312       México D.F.   \n3                3                120 Hanover Sq.            London   \n4                4                Berguvsvägen  8             Luleå   \n...            ...                            ...               ...   \n19331        29328     39, avenue des Laurentides  Paris La Defense   \n19332        29329   Suite 2502 410 Albert Street          Waterloo   \n19333        29330                  Ontario Mills           Ontario   \n19334        29331               72540 Blanco Rd.       San Antonio   \n19335        29332                  660 Lindbergh       Saint Louis   \n\n       CUSTOMER_state CUSTOMER_region CUSTOMER_country  \\\n0                None            None          Germany   \n1                None            None           Mexico   \n2                None            None           Mexico   \n3                None            None               UK   \n4                None            None           Sweden   \n...               ...             ...              ...   \n19331  Hauts de Seine            None           France   \n19332         Ontario            None           Canada   \n19333      California            None    United States   \n19334           Texas            None    United States   \n19335        Missouri            None    United States   \n\n                    CUSTOMER_company_name  \n0                     Alfreds Futterkiste  \n1      Ana Trujillo Emparedados y helados  \n2                 Antonio Moreno Taquería  \n3                         Around the Horn  \n4                      Berglunds snabbköp  \n...                                   ...  \n19331                Recreation Toy Store  \n19332                         Retreat Inn  \n19333       Technical Parts Manufacturing  \n19334             Totes & Baskets Company  \n19335                      World of Bikes  \n\n[19336 rows x 7 columns]",
      "text/html": "<div>\n<style scoped>\n    .dataframe tbody tr th:only-of-type {\n        vertical-align: middle;\n    }\n\n    .dataframe tbody tr th {\n        vertical-align: top;\n    }\n\n    .dataframe thead th {\n        text-align: right;\n    }\n</style>\n<table border=\"1\" class=\"dataframe\">\n  <thead>\n    <tr style=\"text-align: right;\">\n      <th></th>\n      <th>CUSTOMER_id</th>\n      <th>CUSTOMER_address</th>\n      <th>CUSTOMER_city</th>\n      <th>CUSTOMER_state</th>\n      <th>CUSTOMER_region</th>\n      <th>CUSTOMER_country</th>\n      <th>CUSTOMER_company_name</th>\n    </tr>\n  </thead>\n  <tbody>\n    <tr>\n      <th>0</th>\n      <td>0</td>\n      <td>Obere Str. 57</td>\n      <td>Berlin</td>\n      <td>None</td>\n      <td>None</td>\n      <td>Germany</td>\n      <td>Alfreds Futterkiste</td>\n    </tr>\n    <tr>\n      <th>1</th>\n      <td>1</td>\n      <td>Avda. de la Constitución 2222</td>\n      <td>México D.F.</td>\n      <td>None</td>\n      <td>None</td>\n      <td>Mexico</td>\n      <td>Ana Trujillo Emparedados y helados</td>\n    </tr>\n    <tr>\n      <th>2</th>\n      <td>2</td>\n      <td>Mataderos  2312</td>\n      <td>México D.F.</td>\n      <td>None</td>\n      <td>None</td>\n      <td>Mexico</td>\n      <td>Antonio Moreno Taquería</td>\n    </tr>\n    <tr>\n      <th>3</th>\n      <td>3</td>\n      <td>120 Hanover Sq.</td>\n      <td>London</td>\n      <td>None</td>\n      <td>None</td>\n      <td>UK</td>\n      <td>Around the Horn</td>\n    </tr>\n    <tr>\n      <th>4</th>\n      <td>4</td>\n      <td>Berguvsvägen  8</td>\n      <td>Luleå</td>\n      <td>None</td>\n      <td>None</td>\n      <td>Sweden</td>\n      <td>Berglunds snabbköp</td>\n    </tr>\n    <tr>\n      <th>...</th>\n      <td>...</td>\n      <td>...</td>\n      <td>...</td>\n      <td>...</td>\n      <td>...</td>\n      <td>...</td>\n      <td>...</td>\n    </tr>\n    <tr>\n      <th>19331</th>\n      <td>29328</td>\n      <td>39, avenue des Laurentides</td>\n      <td>Paris La Defense</td>\n      <td>Hauts de Seine</td>\n      <td>None</td>\n      <td>France</td>\n      <td>Recreation Toy Store</td>\n    </tr>\n    <tr>\n      <th>19332</th>\n      <td>29329</td>\n      <td>Suite 2502 410 Albert Street</td>\n      <td>Waterloo</td>\n      <td>Ontario</td>\n      <td>None</td>\n      <td>Canada</td>\n      <td>Retreat Inn</td>\n    </tr>\n    <tr>\n      <th>19333</th>\n      <td>29330</td>\n      <td>Ontario Mills</td>\n      <td>Ontario</td>\n      <td>California</td>\n      <td>None</td>\n      <td>United States</td>\n      <td>Technical Parts Manufacturing</td>\n    </tr>\n    <tr>\n      <th>19334</th>\n      <td>29331</td>\n      <td>72540 Blanco Rd.</td>\n      <td>San Antonio</td>\n      <td>Texas</td>\n      <td>None</td>\n      <td>United States</td>\n      <td>Totes &amp; Baskets Company</td>\n    </tr>\n    <tr>\n      <th>19335</th>\n      <td>29332</td>\n      <td>660 Lindbergh</td>\n      <td>Saint Louis</td>\n      <td>Missouri</td>\n      <td>None</td>\n      <td>United States</td>\n      <td>World of Bikes</td>\n    </tr>\n  </tbody>\n</table>\n<p>19336 rows × 7 columns</p>\n</div>"
     },
     "execution_count": 45,
     "metadata": {},
     "output_type": "execute_result"
    }
   ],
   "source": [
    "customer"
   ],
   "metadata": {
    "collapsed": false,
    "ExecuteTime": {
     "end_time": "2023-06-06T20:22:24.895911900Z",
     "start_time": "2023-06-06T20:22:24.863447400Z"
    }
   }
  },
  {
   "cell_type": "code",
   "execution_count": 46,
   "outputs": [
    {
     "data": {
      "text/plain": "array(['Germany', 'Mexico', 'UK', 'Sweden', 'France', 'Spain', 'Canada',\n       'Argentina', 'Switzerland', 'Brazil', 'Austria', 'Italy',\n       'Portugal', 'USA', 'Venezuela', 'Ireland', 'Belgium', 'Norway',\n       'Denmark', 'Finland', 'Poland', 'CAN', 'Australia',\n       'United States', 'United Kingdom'], dtype=object)"
     },
     "execution_count": 46,
     "metadata": {},
     "output_type": "execute_result"
    }
   ],
   "source": [
    "unique_countries = customer['CUSTOMER_country'].unique()\n",
    "unique_countries"
   ],
   "metadata": {
    "collapsed": false,
    "ExecuteTime": {
     "end_time": "2023-06-06T20:22:24.933156900Z",
     "start_time": "2023-06-06T20:22:24.889911Z"
    }
   }
  },
  {
   "cell_type": "code",
   "execution_count": 47,
   "outputs": [],
   "source": [
    "mapping_dict = {\n",
    "    'United States': 'USA',\n",
    "    'United Kingdom': 'UK',\n",
    "    'CAN': 'Canada'\n",
    "}\n",
    "\n",
    "# Replace the values in the 'country' column\n",
    "customer['CUSTOMER_country'] = customer['CUSTOMER_country'].replace(mapping_dict)"
   ],
   "metadata": {
    "collapsed": false,
    "ExecuteTime": {
     "end_time": "2023-06-06T20:22:24.977084500Z",
     "start_time": "2023-06-06T20:22:24.913915200Z"
    }
   }
  },
  {
   "cell_type": "code",
   "execution_count": 48,
   "outputs": [
    {
     "data": {
      "text/plain": "       CUSTOMER_id               CUSTOMER_address     CUSTOMER_city  \\\n0                0                  Obere Str. 57            Berlin   \n1                1  Avda. de la Constitución 2222       México D.F.   \n2                2                Mataderos  2312       México D.F.   \n3                3                120 Hanover Sq.            London   \n4                4                Berguvsvägen  8             Luleå   \n...            ...                            ...               ...   \n19331        29328     39, avenue des Laurentides  Paris La Defense   \n19332        29329   Suite 2502 410 Albert Street          Waterloo   \n19333        29330                  Ontario Mills           Ontario   \n19334        29331               72540 Blanco Rd.       San Antonio   \n19335        29332                  660 Lindbergh       Saint Louis   \n\n       CUSTOMER_state CUSTOMER_region CUSTOMER_country  \\\n0                None            None          Germany   \n1                None            None           Mexico   \n2                None            None           Mexico   \n3                None            None               UK   \n4                None            None           Sweden   \n...               ...             ...              ...   \n19331  Hauts de Seine            None           France   \n19332         Ontario            None           Canada   \n19333      California            None              USA   \n19334           Texas            None              USA   \n19335        Missouri            None              USA   \n\n                    CUSTOMER_company_name  \n0                     Alfreds Futterkiste  \n1      Ana Trujillo Emparedados y helados  \n2                 Antonio Moreno Taquería  \n3                         Around the Horn  \n4                      Berglunds snabbköp  \n...                                   ...  \n19331                Recreation Toy Store  \n19332                         Retreat Inn  \n19333       Technical Parts Manufacturing  \n19334             Totes & Baskets Company  \n19335                      World of Bikes  \n\n[19336 rows x 7 columns]",
      "text/html": "<div>\n<style scoped>\n    .dataframe tbody tr th:only-of-type {\n        vertical-align: middle;\n    }\n\n    .dataframe tbody tr th {\n        vertical-align: top;\n    }\n\n    .dataframe thead th {\n        text-align: right;\n    }\n</style>\n<table border=\"1\" class=\"dataframe\">\n  <thead>\n    <tr style=\"text-align: right;\">\n      <th></th>\n      <th>CUSTOMER_id</th>\n      <th>CUSTOMER_address</th>\n      <th>CUSTOMER_city</th>\n      <th>CUSTOMER_state</th>\n      <th>CUSTOMER_region</th>\n      <th>CUSTOMER_country</th>\n      <th>CUSTOMER_company_name</th>\n    </tr>\n  </thead>\n  <tbody>\n    <tr>\n      <th>0</th>\n      <td>0</td>\n      <td>Obere Str. 57</td>\n      <td>Berlin</td>\n      <td>None</td>\n      <td>None</td>\n      <td>Germany</td>\n      <td>Alfreds Futterkiste</td>\n    </tr>\n    <tr>\n      <th>1</th>\n      <td>1</td>\n      <td>Avda. de la Constitución 2222</td>\n      <td>México D.F.</td>\n      <td>None</td>\n      <td>None</td>\n      <td>Mexico</td>\n      <td>Ana Trujillo Emparedados y helados</td>\n    </tr>\n    <tr>\n      <th>2</th>\n      <td>2</td>\n      <td>Mataderos  2312</td>\n      <td>México D.F.</td>\n      <td>None</td>\n      <td>None</td>\n      <td>Mexico</td>\n      <td>Antonio Moreno Taquería</td>\n    </tr>\n    <tr>\n      <th>3</th>\n      <td>3</td>\n      <td>120 Hanover Sq.</td>\n      <td>London</td>\n      <td>None</td>\n      <td>None</td>\n      <td>UK</td>\n      <td>Around the Horn</td>\n    </tr>\n    <tr>\n      <th>4</th>\n      <td>4</td>\n      <td>Berguvsvägen  8</td>\n      <td>Luleå</td>\n      <td>None</td>\n      <td>None</td>\n      <td>Sweden</td>\n      <td>Berglunds snabbköp</td>\n    </tr>\n    <tr>\n      <th>...</th>\n      <td>...</td>\n      <td>...</td>\n      <td>...</td>\n      <td>...</td>\n      <td>...</td>\n      <td>...</td>\n      <td>...</td>\n    </tr>\n    <tr>\n      <th>19331</th>\n      <td>29328</td>\n      <td>39, avenue des Laurentides</td>\n      <td>Paris La Defense</td>\n      <td>Hauts de Seine</td>\n      <td>None</td>\n      <td>France</td>\n      <td>Recreation Toy Store</td>\n    </tr>\n    <tr>\n      <th>19332</th>\n      <td>29329</td>\n      <td>Suite 2502 410 Albert Street</td>\n      <td>Waterloo</td>\n      <td>Ontario</td>\n      <td>None</td>\n      <td>Canada</td>\n      <td>Retreat Inn</td>\n    </tr>\n    <tr>\n      <th>19333</th>\n      <td>29330</td>\n      <td>Ontario Mills</td>\n      <td>Ontario</td>\n      <td>California</td>\n      <td>None</td>\n      <td>USA</td>\n      <td>Technical Parts Manufacturing</td>\n    </tr>\n    <tr>\n      <th>19334</th>\n      <td>29331</td>\n      <td>72540 Blanco Rd.</td>\n      <td>San Antonio</td>\n      <td>Texas</td>\n      <td>None</td>\n      <td>USA</td>\n      <td>Totes &amp; Baskets Company</td>\n    </tr>\n    <tr>\n      <th>19335</th>\n      <td>29332</td>\n      <td>660 Lindbergh</td>\n      <td>Saint Louis</td>\n      <td>Missouri</td>\n      <td>None</td>\n      <td>USA</td>\n      <td>World of Bikes</td>\n    </tr>\n  </tbody>\n</table>\n<p>19336 rows × 7 columns</p>\n</div>"
     },
     "execution_count": 48,
     "metadata": {},
     "output_type": "execute_result"
    }
   ],
   "source": [
    "customer"
   ],
   "metadata": {
    "collapsed": false,
    "ExecuteTime": {
     "end_time": "2023-06-06T20:22:25.029386400Z",
     "start_time": "2023-06-06T20:22:24.952102900Z"
    }
   }
  },
  {
   "cell_type": "code",
   "execution_count": 49,
   "outputs": [
    {
     "data": {
      "text/plain": "array(['Germany', 'Mexico', 'UK', 'Sweden', 'France', 'Spain', 'Canada',\n       'Argentina', 'Switzerland', 'Brazil', 'Austria', 'Italy',\n       'Portugal', 'USA', 'Venezuela', 'Ireland', 'Belgium', 'Norway',\n       'Denmark', 'Finland', 'Poland', 'Australia'], dtype=object)"
     },
     "execution_count": 49,
     "metadata": {},
     "output_type": "execute_result"
    }
   ],
   "source": [
    "unique_countries = customer['CUSTOMER_country'].unique()\n",
    "unique_countries"
   ],
   "metadata": {
    "collapsed": false,
    "ExecuteTime": {
     "end_time": "2023-06-06T20:22:25.072894400Z",
     "start_time": "2023-06-06T20:22:24.970085700Z"
    }
   }
  }
 ],
 "metadata": {
  "kernelspec": {
   "display_name": "Python 3",
   "language": "python",
   "name": "python3"
  },
  "language_info": {
   "codemirror_mode": {
    "name": "ipython",
    "version": 2
   },
   "file_extension": ".py",
   "mimetype": "text/x-python",
   "name": "python",
   "nbconvert_exporter": "python",
   "pygments_lexer": "ipython2",
   "version": "2.7.6"
  }
 },
 "nbformat": 4,
 "nbformat_minor": 0
}
